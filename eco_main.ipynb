{
 "cells": [
  {
   "cell_type": "code",
   "execution_count": 1,
   "id": "84f60045",
   "metadata": {},
   "outputs": [],
   "source": [
    "import numpy as np\n",
    "from utils import plot_time_series, plot_coefficients, plot_residuals\n",
    "from utils_Fit import Fit4S, Fit4Y\n",
    "from Estimate import Iter_model\n",
    "\n",
    "\n",
    "data = np.load('eco_data.npz')\n",
    "\n",
    "GDP_growth_tensor = data['GDP_growth'][:, :, np.newaxis]\n",
    "UR_tensor = data['UR'][:, :, :, np.newaxis]\n",
    "population_growth_tensor = data[\"population_growth\"][:, :, :, np.newaxis]\n",
    "Action_tensor = data['Action'][:, :, :, np.newaxis]\n",
    "W_mat = data['W']\n",
    "\n",
    "\n",
    "NN, TT, PP, _ = UR_tensor.shape\n",
    "Gnum = 3\n",
    "J0 = 3\n",
    "\n",
    "Gvec = np.array([1 for i in range(NN)])\n",
    "Timevec = [i for i in range(TT)]\n",
    "Timevec = np.array(Timevec) / TT\n",
    "Abar = np.einsum(\"ij, jklm->iklm\", W_mat, Action_tensor)\n",
    "\n",
    "\n",
    "\n",
    "splinetype = \"b_spline\"\n",
    "IV_type = \"1\"\n",
    "\n",
    "plot_time_series(GDP_growth_tensor[:, :, :,np.newaxis], Gvec=Gvec, mode=\"Y\")\n",
    "plot_time_series(UR_tensor, Gvec=Gvec, mode=\"S\")"
   ]
  },
  {
   "cell_type": "code",
   "execution_count": 2,
   "id": "eba3bc15",
   "metadata": {},
   "outputs": [
    {
     "name": "stdout",
     "output_type": "stream",
     "text": [
      "No Gvec real is given.\n",
      "Converged after 2 iterations.\n"
     ]
    }
   ],
   "source": [
    "Stensor = UR_tensor\n",
    "Ztensor = population_growth_tensor\n",
    "\n",
    "S0 = Stensor[:, 0:1, :, :]\n",
    "\n",
    "res_dict4S, res_dict4Y = Iter_model(\n",
    "    Timevec=Timevec,\n",
    "    S0mat=S0, Stensor=Stensor,\n",
    "    Wmat=W_mat, Ztensor= Ztensor,\n",
    "    Ytensor=GDP_growth_tensor,\n",
    "    Atensor=Action_tensor, Abar= Abar,\n",
    "    Gnum=3, J0=J0,\n",
    "    Gvec=Gvec,\n",
    "    Gvec_real=None,\n",
    "    splinetype=splinetype,\n",
    "    IV_type=IV_type,\n",
    "    max_iter=100, tol=1e-6, oracle=False\n",
    ")\n",
    "\n",
    "plot_coefficients(res_dict4S, dgp=None, mode=\"S\", plot_true=False)\n",
    "plot_coefficients(res_dict4Y, dgp=None, mode=\"Y\", plot_true=False)"
   ]
  },
  {
   "cell_type": "code",
   "execution_count": 3,
   "id": "db46e906",
   "metadata": {},
   "outputs": [],
   "source": [
    "StensorFit = Fit4S(res_dict4S, S0mat=S0, Stensor=Stensor,\n",
    "                   Ztensor=Ztensor, Atensor=Action_tensor, Wmat=W_mat)\n",
    "YtensorFit = Fit4Y(res_dict4Y, Stensor=Stensor, Atensor=Action_tensor, Wmat=W_mat)\n",
    "\n",
    "plot_residuals(Tensor=Stensor, Tensor_fit=StensorFit, mode=\"S\")\n",
    "plot_residuals(Tensor=GDP_growth_tensor, Tensor_fit=YtensorFit, mode=\"Y\")"
   ]
  },
  {
   "cell_type": "code",
   "execution_count": 4,
   "id": "4fc4d8ba",
   "metadata": {},
   "outputs": [
    {
     "data": {
      "text/plain": [
       "array([0, 0, 0, 0, 0, 0, 0, 0, 0, 0, 0, 0, 0, 2, 0, 0, 0, 0, 0, 0, 0, 0,\n",
       "       0, 0, 0, 0, 0, 1, 0, 0, 0, 0, 0, 0, 0, 0, 0, 0, 0, 0, 0, 0, 0, 0,\n",
       "       0, 0, 0, 0, 0, 0], dtype=int64)"
      ]
     },
     "execution_count": 4,
     "metadata": {},
     "output_type": "execute_result"
    }
   ],
   "source": [
    "res_dict4S[\"Gvec\"]"
   ]
  }
 ],
 "metadata": {
  "kernelspec": {
   "display_name": "Python 3",
   "language": "python",
   "name": "python3"
  },
  "language_info": {
   "codemirror_mode": {
    "name": "ipython",
    "version": 3
   },
   "file_extension": ".py",
   "mimetype": "text/x-python",
   "name": "python",
   "nbconvert_exporter": "python",
   "pygments_lexer": "ipython3",
   "version": "3.10.11"
  }
 },
 "nbformat": 4,
 "nbformat_minor": 5
}
